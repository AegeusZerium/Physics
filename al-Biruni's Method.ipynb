{
 "cells": [
  {
   "cell_type": "markdown",
   "metadata": {},
   "source": [
    "## How did al-Biruna compute Earth's radius"
   ]
  },
  {
   "cell_type": "markdown",
   "metadata": {},
   "source": [
    "al-Biruni's computation of Earth's radius can be summarized into two steps:"
   ]
  },
  {
   "cell_type": "markdown",
   "metadata": {},
   "source": [
    "### Step 1"
   ]
  },
  {
   "cell_type": "markdown",
   "metadata": {},
   "source": [
    "![](https://usercontent2.hubstatic.com/8325339_f520.jpg)\n",
    "<center><b>Using an astrolabe to measure angle of elevation<b/> <a href=\"https://usercontent2.hubstatic.com/8325339_f520.jpg\"><b>[1]</b></a></center>"
   ]
  },
  {
   "cell_type": "markdown",
   "metadata": {},
   "source": [
    "Using an astrolabe al-Biruni calculated the inclination angle, $\\theta_1$ and $\\theta_2$, of the mountain at two locations with known separation $d$ between them. Then with the use of simple trigonometry al-Biruni found the height $h$ of the mountain."
   ]
  },
  {
   "cell_type": "markdown",
   "metadata": {},
   "source": [
    "![](http://www.raymaps.com/wp-content/uploads/2017/12/AlBeruni_Height.jpg)\n",
    "<center><b>Determining the height of a mountain</b> <a href=\"http://www.raymaps.com/wp-content/uploads/2017/12/AlBeruni_Height.jpg\"><b>[2]</b></a> </center>"
   ]
  },
  {
   "cell_type": "markdown",
   "metadata": {},
   "source": [
    "#### Knowns and unknowns"
   ]
  },
  {
   "cell_type": "markdown",
   "metadata": {},
   "source": [
    "$d$: known\n",
    "<br>\n",
    "$\\theta_1$: known\n",
    "<br>\n",
    "$\\theta_2$: known\n",
    "<br>\n",
    "$x$ (base length of the right triangle with $\\theta_2$ angle): unknown\n",
    "<br>\n",
    "$d + x$ (base length of the right triangle with $\\theta_1$ angle): unknown"
   ]
  },
  {
   "cell_type": "markdown",
   "metadata": {},
   "source": [
    "#### Calculations"
   ]
  },
  {
   "cell_type": "markdown",
   "metadata": {},
   "source": [
    "$$\\tan \\theta_1 = \\frac{h}{d + x} \\rightsquigarrow h = d \\tan \\theta_1 + x \\tan \\theta_1 \\space \\space \\space \\left(1\\right)$$\n",
    "<br><br>\n",
    "$$\\tan \\theta_2 = \\frac{h}{x} \\rightsquigarrow h = x \\tan \\theta_2 \\space \\space \\space \\left(2\\right)$$"
   ]
  },
  {
   "cell_type": "markdown",
   "metadata": {},
   "source": [
    "$$d \\tan \\theta_1 + x \\tan \\theta_1 = x \\tan \\theta_2$$\n",
    "<br><br>\n",
    "$$d \\tan \\theta_1 = x \\tan \\theta_2 - x \\tan \\theta_1$$\n",
    "<br><br>\n",
    "$$d \\tan \\theta_1 = x \\left(\\tan \\theta_2 - \\tan \\theta_1 \\right)$$\n",
    "<br><br>\n",
    "$$x = \\frac{d \\tan \\theta_1}{\\tan \\theta_2 - \\tan \\theta_1} \\space \\space \\space \\left(3\\right)$$"
   ]
  },
  {
   "cell_type": "markdown",
   "metadata": {},
   "source": [
    "Substituting $x$ by its value, in equation $3$, within equation $2$, and thus we get the final height equation of the mountain:"
   ]
  },
  {
   "cell_type": "markdown",
   "metadata": {},
   "source": [
    "$$\\boxed{h = \\frac{d \\tan \\theta_1 \\tan \\theta_2}{\\tan \\theta_2 - \\tan \\theta_1}}$$"
   ]
  },
  {
   "cell_type": "markdown",
   "metadata": {},
   "source": [
    "### Step 2"
   ]
  },
  {
   "cell_type": "markdown",
   "metadata": {},
   "source": [
    "In the second step of his method al-Biruni measured, using the astrolabe, the angle of depression $\\alpha$ that the horizon makes as viewed from top of the mountain."
   ]
  },
  {
   "cell_type": "markdown",
   "metadata": {},
   "source": [
    "![](http://www.raymaps.com/wp-content/uploads/2017/12/AlBeruni_Horizon.jpg)\n",
    "<center><b>Determining Earth's radius</b> <a href=\"http://www.raymaps.com/wp-content/uploads/2017/12/AlBeruni_Horizon.jpg\"><b>[3]</b></a> </center>"
   ]
  },
  {
   "cell_type": "markdown",
   "metadata": {},
   "source": [
    "#### Knowns and unknowns"
   ]
  },
  {
   "cell_type": "markdown",
   "metadata": {},
   "source": [
    "$h$: known\n",
    "<br>\n",
    "$\\alpha$: known\n",
    "<br>\n",
    "$r$: unknown\n",
    "<br>\n",
    "$r + h$: unknown"
   ]
  },
  {
   "cell_type": "markdown",
   "metadata": {},
   "source": [
    "#### Calculations"
   ]
  },
  {
   "cell_type": "markdown",
   "metadata": {},
   "source": [
    "$$\\cos \\alpha = \\frac{r}{r + h}$$\n",
    "<br><br>\n",
    "$$r = r \\cos \\alpha + h \\cos \\alpha$$\n",
    "<br><br>\n",
    "$$r - r \\cos \\alpha = h \\cos \\alpha$$\n",
    "<br><br>\n",
    "$$r \\left(1 - \\cos \\alpha \\right) = h \\cos \\alpha$$\n",
    "<br><br>\n",
    "Thus the radius of Earth is:\n",
    "<br><br>\n",
    "$$\\boxed{r = \\frac{h \\cos \\alpha}{1 - \\cos \\alpha}}$$"
   ]
  },
  {
   "cell_type": "markdown",
   "metadata": {},
   "source": [
    "al-Biruni's estimate of 6,339.9 km for the Earth radius had an outstanding error $\\varepsilon$ of 0.0026 and was 16.8 km less than the current value of 6,356.7 km [**[4]**](https://upload.wikimedia.org/wikipedia/commons/archive/0/0b/20100502051941%21Abu_Reyhan_Biruni-Earth_Circumference.svg). "
   ]
  },
  {
   "cell_type": "markdown",
   "metadata": {},
   "source": [
    "## External links:"
   ]
  },
  {
   "cell_type": "markdown",
   "metadata": {},
   "source": [
    "- **[1]** https://usercontent2.hubstatic.com/8325339_f520.jpg\n",
    "<br>\n",
    "- **[2]** http://www.raymaps.com/wp-content/uploads/2017/12/AlBeruni_Height.jpg\n",
    "<br>\n",
    "- **[3]** http://www.raymaps.com/wp-content/uploads/2017/12/AlBeruni_Horizon.jpg\n",
    "<br>\n",
    "- **[4]** https://upload.wikimedia.org/wikipedia/commons/archive/0/0b/20100502051941%21Abu_Reyhan_Biruni-Earth_Circumference.svg"
   ]
  }
 ],
 "metadata": {
  "kernelspec": {
   "display_name": "Python 3",
   "language": "python",
   "name": "python3"
  },
  "language_info": {
   "codemirror_mode": {
    "name": "ipython",
    "version": 3
   },
   "file_extension": ".py",
   "mimetype": "text/x-python",
   "name": "python",
   "nbconvert_exporter": "python",
   "pygments_lexer": "ipython3",
   "version": "3.7.3"
  }
 },
 "nbformat": 4,
 "nbformat_minor": 2
}
